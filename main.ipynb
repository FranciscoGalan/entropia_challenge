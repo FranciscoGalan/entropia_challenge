{
 "cells": [
  {
   "cell_type": "code",
   "execution_count": 1,
   "id": "be379daa",
   "metadata": {},
   "outputs": [],
   "source": [
    "import math"
   ]
  },
  {
   "cell_type": "markdown",
   "id": "9ca38f8e",
   "metadata": {},
   "source": [
    "# Task 1: Extracting leading digits\n",
    "\n",
    "The first task is to complete the function extract_leading_digits. This function should take a number and a number of digits as inputs and return an integer containing the specified number of leading digits.\n",
    "\n",
    "    Examples of extract_leading_digits:\n",
    "    -------------------------------------------------------------\n",
    "    inputs: number, number of digits        |      otputs\n",
    "    -------------------------------------------------------------\n",
    "    extract_leading_digits(245, 1)          |      2\n",
    "    extract_leading_digits(.245, 2)         |      24\n",
    "    extract_leading_digits(.0000245, 3)     |      245\n",
    "    -------------------------------------------------------------\n",
    "\n"
   ]
  },
  {
   "cell_type": "code",
   "execution_count": null,
   "id": "39a34ef3",
   "metadata": {},
   "outputs": [],
   "source": []
  }
 ],
 "metadata": {
  "kernelspec": {
   "display_name": "Python 3",
   "language": "python",
   "name": "python3"
  },
  "language_info": {
   "codemirror_mode": {
    "name": "ipython",
    "version": 3
   },
   "file_extension": ".py",
   "mimetype": "text/x-python",
   "name": "python",
   "nbconvert_exporter": "python",
   "pygments_lexer": "ipython3",
   "version": "3.8.8"
  }
 },
 "nbformat": 4,
 "nbformat_minor": 5
}
